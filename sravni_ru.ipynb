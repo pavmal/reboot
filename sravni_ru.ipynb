{
 "cells": [
  {
   "cell_type": "markdown",
   "metadata": {},
   "source": [
    "## Программа Reboot 2020 поток 1 КУ Сбербанка\n",
    "### выполнил Малинкин Павел Борисович\n",
    "### Скрипт сбора информации с отзывами об услуге по выдаче ипотеки с последующим обучением модели классификации отзывов"
   ]
  },
  {
   "cell_type": "code",
   "execution_count": null,
   "metadata": {},
   "outputs": [],
   "source": [
    "# Загрузим необходимые библиотеки\n",
    "import pandas as pd\n",
    "import requests\n",
    "import bs4\n",
    "from bs4 import BeautifulSoup\n",
    "import json\n",
    "import re\n",
    "import random\n",
    "import time\n",
    "\n",
    "import warnings\n",
    "warnings.filterwarnings(action='ignore', category=DeprecationWarning)"
   ]
  },
  {
   "cell_type": "code",
   "execution_count": 2,
   "metadata": {},
   "outputs": [
    {
     "name": "stdout",
     "output_type": "stream",
     "text": [
      "<Response [200]> OK utf-8\n",
      "feedbacks = 20, estimates = 20\n"
     ]
    }
   ],
   "source": [
    "# Выберем сайт для сбора данных\n",
    "url = 'https://www.sravni.ru/ipoteka/otzyvy/'\n",
    "feedbacks = []\n",
    "estimates = []\n",
    "\n",
    "# Обработка первой страницы\n",
    "page = requests.get(url)\n",
    "print(page, page.reason, page.encoding)\n",
    "soup = BeautifulSoup(page.text, 'html.parser')\n",
    "\n",
    "for tag in soup.find_all('div', attrs={'class':'_3p0dD'}):\n",
    "    text = tag.text.lower()\n",
    "    text = re.sub('[^a-zA-Zа-яА-Я1-9]+', ' ', text)\n",
    "    text = text.strip()\n",
    "    feedbacks.append(text)\n",
    "        \n",
    "for tag in soup.find_all('span', attrs={'class':'_1OBr6'}):\n",
    "    estimates.append(int(tag.text))\n",
    "print('feedbacks = {}, estimates = {}'.format(len(feedbacks), len(estimates)))"
   ]
  },
  {
   "cell_type": "code",
   "execution_count": 3,
   "metadata": {},
   "outputs": [
    {
     "name": "stdout",
     "output_type": "stream",
     "text": [
      "<Response [200]> OK utf-8\n",
      "<Response [200]> OK utf-8\n",
      "<Response [200]> OK utf-8\n",
      "<Response [200]> OK utf-8\n",
      "<Response [200]> OK utf-8\n",
      "<Response [200]> OK utf-8\n",
      "<Response [200]> OK utf-8\n",
      "<Response [200]> OK utf-8\n",
      "<Response [200]> OK utf-8\n",
      "page = 10, feedbacks = 200, estimates = 200\n",
      "<Response [200]> OK utf-8\n",
      "<Response [200]> OK utf-8\n",
      "<Response [200]> OK utf-8\n",
      "<Response [200]> OK utf-8\n",
      "<Response [200]> OK utf-8\n",
      "<Response [200]> OK utf-8\n",
      "<Response [200]> OK utf-8\n",
      "<Response [200]> OK utf-8\n",
      "page = 18, feedbacks = 360, estimates = 360\n"
     ]
    }
   ],
   "source": [
    "# Обработка последующих страниц с отзываним клиентов\n",
    "last_page = 18\n",
    "for i in range(2, last_page + 1):\n",
    "    params = {'page': i}\n",
    "    pouse = random.randint(10, 40)\n",
    "    time.sleep(pouse)\n",
    "    page = requests.get(url, params=params)\n",
    "    print(page, page.reason, page.encoding)\n",
    "    soup = BeautifulSoup(page.text, 'html.parser')\n",
    "    \n",
    "    for tag in soup.find_all('div', attrs={'class':'_3p0dD'}):\n",
    "        text = tag.text.lower()\n",
    "        text = re.sub('[^a-zA-Zа-яА-Я1-9]+', ' ', text)\n",
    "        text = text.strip()\n",
    "        feedbacks.append(text)\n",
    "        \n",
    "    for tag in soup.find_all('span', attrs={'class':'_1OBr6'}):\n",
    "        estimates.append(int(tag.text))\n",
    "    if (i % 10 == 0) or (i == last_page):\n",
    "        print('page = {}, feedbacks = {}, estimates = {}'.format(i, len(feedbacks), len(estimates)))"
   ]
  },
  {
   "cell_type": "code",
   "execution_count": 4,
   "metadata": {},
   "outputs": [
    {
     "name": "stdout",
     "output_type": "stream",
     "text": [
      "lenght df = 360\n"
     ]
    }
   ],
   "source": [
    "# Сформируем датасет для обучения\n",
    "df_f = pd.DataFrame({'feedbacks':feedbacks})\n",
    "df_e = pd.DataFrame({'labels':estimates})\n",
    "df = pd.concat([df_e, df_f], axis=1)\n",
    "print('lenght df = {}'.format(len(df)))"
   ]
  },
  {
   "cell_type": "code",
   "execution_count": 5,
   "metadata": {},
   "outputs": [
    {
     "data": {
      "text/html": [
       "<div>\n",
       "<style scoped>\n",
       "    .dataframe tbody tr th:only-of-type {\n",
       "        vertical-align: middle;\n",
       "    }\n",
       "\n",
       "    .dataframe tbody tr th {\n",
       "        vertical-align: top;\n",
       "    }\n",
       "\n",
       "    .dataframe thead th {\n",
       "        text-align: right;\n",
       "    }\n",
       "</style>\n",
       "<table border=\"1\" class=\"dataframe\">\n",
       "  <thead>\n",
       "    <tr style=\"text-align: right;\">\n",
       "      <th></th>\n",
       "      <th>labels</th>\n",
       "      <th>feedbacks</th>\n",
       "    </tr>\n",
       "  </thead>\n",
       "  <tbody>\n",
       "    <tr>\n",
       "      <td>0</td>\n",
       "      <td>4</td>\n",
       "      <td>брали ипотеку в далеком 2 14 году решения ждал...</td>\n",
       "    </tr>\n",
       "    <tr>\n",
       "      <td>1</td>\n",
       "      <td>2</td>\n",
       "      <td>обратившись в этот банк вы гарантировано получ...</td>\n",
       "    </tr>\n",
       "    <tr>\n",
       "      <td>2</td>\n",
       "      <td>2</td>\n",
       "      <td>у нас была оформлена ипотека в 2 17 в урал сиб...</td>\n",
       "    </tr>\n",
       "    <tr>\n",
       "      <td>3</td>\n",
       "      <td>3</td>\n",
       "      <td>из за просрочки у меня испортилась кредитная и...</td>\n",
       "    </tr>\n",
       "    <tr>\n",
       "      <td>4</td>\n",
       "      <td>3</td>\n",
       "      <td>не рекомендую обращаться за ипотекой в этот ба...</td>\n",
       "    </tr>\n",
       "  </tbody>\n",
       "</table>\n",
       "</div>"
      ],
      "text/plain": [
       "   labels                                          feedbacks\n",
       "0       4  брали ипотеку в далеком 2 14 году решения ждал...\n",
       "1       2  обратившись в этот банк вы гарантировано получ...\n",
       "2       2  у нас была оформлена ипотека в 2 17 в урал сиб...\n",
       "3       3  из за просрочки у меня испортилась кредитная и...\n",
       "4       3  не рекомендую обращаться за ипотекой в этот ба..."
      ]
     },
     "execution_count": 5,
     "metadata": {},
     "output_type": "execute_result"
    }
   ],
   "source": [
    "df.head()"
   ]
  },
  {
   "cell_type": "code",
   "execution_count": 6,
   "metadata": {},
   "outputs": [
    {
     "data": {
      "text/html": [
       "<div>\n",
       "<style scoped>\n",
       "    .dataframe tbody tr th:only-of-type {\n",
       "        vertical-align: middle;\n",
       "    }\n",
       "\n",
       "    .dataframe tbody tr th {\n",
       "        vertical-align: top;\n",
       "    }\n",
       "\n",
       "    .dataframe thead th {\n",
       "        text-align: right;\n",
       "    }\n",
       "</style>\n",
       "<table border=\"1\" class=\"dataframe\">\n",
       "  <thead>\n",
       "    <tr style=\"text-align: right;\">\n",
       "      <th></th>\n",
       "      <th>labels</th>\n",
       "      <th>feedbacks</th>\n",
       "    </tr>\n",
       "  </thead>\n",
       "  <tbody>\n",
       "    <tr>\n",
       "      <td>355</td>\n",
       "      <td>3</td>\n",
       "      <td>ипотека в банке втб подали заявление на пониже...</td>\n",
       "    </tr>\n",
       "    <tr>\n",
       "      <td>356</td>\n",
       "      <td>4</td>\n",
       "      <td>в июле 2 16 года взяла ипотеку в банке втб все...</td>\n",
       "    </tr>\n",
       "    <tr>\n",
       "      <td>357</td>\n",
       "      <td>3</td>\n",
       "      <td>добрый день надеюсь мой отзыв убережет вас от ...</td>\n",
       "    </tr>\n",
       "    <tr>\n",
       "      <td>358</td>\n",
       "      <td>3</td>\n",
       "      <td>взяли ипотеку в райффайзен на вторичку пожалел...</td>\n",
       "    </tr>\n",
       "    <tr>\n",
       "      <td>359</td>\n",
       "      <td>5</td>\n",
       "      <td>убрир нами был выбран не случайно сама работаю...</td>\n",
       "    </tr>\n",
       "  </tbody>\n",
       "</table>\n",
       "</div>"
      ],
      "text/plain": [
       "     labels                                          feedbacks\n",
       "355       3  ипотека в банке втб подали заявление на пониже...\n",
       "356       4  в июле 2 16 года взяла ипотеку в банке втб все...\n",
       "357       3  добрый день надеюсь мой отзыв убережет вас от ...\n",
       "358       3  взяли ипотеку в райффайзен на вторичку пожалел...\n",
       "359       5  убрир нами был выбран не случайно сама работаю..."
      ]
     },
     "execution_count": 6,
     "metadata": {},
     "output_type": "execute_result"
    }
   ],
   "source": [
    "df.tail()"
   ]
  },
  {
   "cell_type": "code",
   "execution_count": 7,
   "metadata": {},
   "outputs": [],
   "source": [
    "# Отзывы с оценками 1 и 2 отнесем к негативным, с 4 и 5 - к позитивным\n",
    "df.loc[(df['labels'] == 1) | (df['labels'] == 2), 'labels'] = 0\n",
    "df.loc[(df['labels'] == 4) | (df['labels'] == 5), 'labels'] = 1"
   ]
  },
  {
   "cell_type": "code",
   "execution_count": 8,
   "metadata": {},
   "outputs": [
    {
     "name": "stdout",
     "output_type": "stream",
     "text": [
      "Elements in dataset: 277\n"
     ]
    }
   ],
   "source": [
    "# Исключим из выборки отзывы с оценкой 3\n",
    "df = df[df['labels'] < 3]\n",
    "print('Elements in dataset: {}'.format(len(df)))"
   ]
  },
  {
   "cell_type": "code",
   "execution_count": 9,
   "metadata": {},
   "outputs": [
    {
     "data": {
      "text/html": [
       "<div>\n",
       "<style scoped>\n",
       "    .dataframe tbody tr th:only-of-type {\n",
       "        vertical-align: middle;\n",
       "    }\n",
       "\n",
       "    .dataframe tbody tr th {\n",
       "        vertical-align: top;\n",
       "    }\n",
       "\n",
       "    .dataframe thead th {\n",
       "        text-align: right;\n",
       "    }\n",
       "</style>\n",
       "<table border=\"1\" class=\"dataframe\">\n",
       "  <thead>\n",
       "    <tr style=\"text-align: right;\">\n",
       "      <th></th>\n",
       "      <th>labels</th>\n",
       "      <th>feedbacks</th>\n",
       "    </tr>\n",
       "  </thead>\n",
       "  <tbody>\n",
       "    <tr>\n",
       "      <td>0</td>\n",
       "      <td>1</td>\n",
       "      <td>брали ипотеку в далеком 2 14 году решения ждал...</td>\n",
       "    </tr>\n",
       "    <tr>\n",
       "      <td>1</td>\n",
       "      <td>0</td>\n",
       "      <td>обратившись в этот банк вы гарантировано получ...</td>\n",
       "    </tr>\n",
       "    <tr>\n",
       "      <td>2</td>\n",
       "      <td>0</td>\n",
       "      <td>у нас была оформлена ипотека в 2 17 в урал сиб...</td>\n",
       "    </tr>\n",
       "    <tr>\n",
       "      <td>6</td>\n",
       "      <td>1</td>\n",
       "      <td>я очень рад что меня с орентировали на ваш бан...</td>\n",
       "    </tr>\n",
       "    <tr>\n",
       "      <td>7</td>\n",
       "      <td>1</td>\n",
       "      <td>второй год плачу по ипотеке в банке открытие р...</td>\n",
       "    </tr>\n",
       "  </tbody>\n",
       "</table>\n",
       "</div>"
      ],
      "text/plain": [
       "   labels                                          feedbacks\n",
       "0       1  брали ипотеку в далеком 2 14 году решения ждал...\n",
       "1       0  обратившись в этот банк вы гарантировано получ...\n",
       "2       0  у нас была оформлена ипотека в 2 17 в урал сиб...\n",
       "6       1  я очень рад что меня с орентировали на ваш бан...\n",
       "7       1  второй год плачу по ипотеке в банке открытие р..."
      ]
     },
     "execution_count": 9,
     "metadata": {},
     "output_type": "execute_result"
    }
   ],
   "source": [
    "df.head()"
   ]
  },
  {
   "cell_type": "code",
   "execution_count": 10,
   "metadata": {},
   "outputs": [
    {
     "data": {
      "text/plain": [
       "275"
      ]
     },
     "execution_count": 10,
     "metadata": {},
     "output_type": "execute_result"
    }
   ],
   "source": [
    "# Проверим данные на предмет наличия дублей\n",
    "df = df.drop_duplicates()\n",
    "len(df)"
   ]
  },
  {
   "cell_type": "markdown",
   "metadata": {},
   "source": [
    "Для датасета я набрал 275 отзывов. Это, конечно, мало. Но так как я рассматриваю цель финального проекта - показать свои навыки работы с данными, то решил ограничится этим количеством из-за ограниченности во времени"
   ]
  },
  {
   "cell_type": "code",
   "execution_count": 19,
   "metadata": {},
   "outputs": [
    {
     "data": {
      "text/plain": [
       "1    0.603636\n",
       "0    0.396364\n",
       "Name: labels, dtype: float64"
      ]
     },
     "execution_count": 19,
     "metadata": {},
     "output_type": "execute_result"
    }
   ],
   "source": [
    "# Проверим соотношение положительных и отризательных отзывов в датасете\n",
    "df['labels'].value_counts(normalize=True)"
   ]
  },
  {
   "cell_type": "code",
   "execution_count": 33,
   "metadata": {},
   "outputs": [
    {
     "data": {
      "text/plain": [
       "<matplotlib.axes._subplots.AxesSubplot at 0x1ee8878cf88>"
      ]
     },
     "execution_count": 33,
     "metadata": {},
     "output_type": "execute_result"
    },
    {
     "data": {
      "image/png": "[encoded data removed]",
      "text/plain": [
       "<Figure size 432x288 with 1 Axes>"
      ]
     },
     "metadata": {
      "needs_background": "light"
     },
     "output_type": "display_data"
    }
   ],
   "source": [
    "df['labels'].value_counts().plot(kind='bar', label='labels', color=['b','r'])"
   ]
  },
  {
   "cell_type": "code",
   "execution_count": 11,
   "metadata": {},
   "outputs": [],
   "source": [
    "texts = df['feedbacks'].to_list()   # X\n",
    "labels = df['labels'].to_list() # y"
   ]
  },
  {
   "cell_type": "code",
   "execution_count": 12,
   "metadata": {},
   "outputs": [],
   "source": [
    "from sklearn.feature_extraction.text import TfidfTransformer, CountVectorizer, TfidfVectorizer\n",
    "from sklearn.linear_model import LogisticRegression, SGDClassifier\n",
    "from sklearn.svm import LinearSVC\n",
    "from sklearn.model_selection import cross_val_score\n",
    "from sklearn.pipeline import Pipeline"
   ]
  },
  {
   "cell_type": "code",
   "execution_count": 13,
   "metadata": {},
   "outputs": [],
   "source": [
    "# Построим pipeline для обработки текста\n",
    "def text_classifier(vectorizer, transformer, classifier):\n",
    "    return Pipeline(\n",
    "            [(\"vectorizer\", vectorizer),\n",
    "            (\"transformer\", transformer),\n",
    "            (\"classifier\", classifier)]\n",
    "        )"
   ]
  },
  {
   "cell_type": "code",
   "execution_count": 14,
   "metadata": {},
   "outputs": [
    {
     "name": "stdout",
     "output_type": "stream",
     "text": [
      "<class 'sklearn.linear_model.logistic.LogisticRegression'>\n",
      "0.8478055978055977\n",
      "\n",
      "\n",
      "<class 'sklearn.svm.classes.LinearSVC'>\n",
      "0.8441577941577941\n",
      "\n",
      "\n",
      "<class 'sklearn.linear_model.stochastic_gradient.SGDClassifier'>\n",
      "0.8225075725075724\n",
      "\n",
      "\n"
     ]
    },
    {
     "name": "stderr",
     "output_type": "stream",
     "text": [
      "C:\\Users\\Pavel\\Anaconda3\\lib\\site-packages\\sklearn\\model_selection\\_split.py:1978: FutureWarning: The default value of cv will change from 3 to 5 in version 0.22. Specify it explicitly to silence this warning.\n",
      "  warnings.warn(CV_WARNING, FutureWarning)\n",
      "C:\\Users\\Pavel\\Anaconda3\\lib\\site-packages\\sklearn\\linear_model\\logistic.py:432: FutureWarning: Default solver will be changed to 'lbfgs' in 0.22. Specify a solver to silence this warning.\n",
      "  FutureWarning)\n",
      "C:\\Users\\Pavel\\Anaconda3\\lib\\site-packages\\sklearn\\linear_model\\logistic.py:432: FutureWarning: Default solver will be changed to 'lbfgs' in 0.22. Specify a solver to silence this warning.\n",
      "  FutureWarning)\n",
      "C:\\Users\\Pavel\\Anaconda3\\lib\\site-packages\\sklearn\\linear_model\\logistic.py:432: FutureWarning: Default solver will be changed to 'lbfgs' in 0.22. Specify a solver to silence this warning.\n",
      "  FutureWarning)\n",
      "C:\\Users\\Pavel\\Anaconda3\\lib\\site-packages\\sklearn\\model_selection\\_split.py:1978: FutureWarning: The default value of cv will change from 3 to 5 in version 0.22. Specify it explicitly to silence this warning.\n",
      "  warnings.warn(CV_WARNING, FutureWarning)\n",
      "C:\\Users\\Pavel\\Anaconda3\\lib\\site-packages\\sklearn\\model_selection\\_split.py:1978: FutureWarning: The default value of cv will change from 3 to 5 in version 0.22. Specify it explicitly to silence this warning.\n",
      "  warnings.warn(CV_WARNING, FutureWarning)\n"
     ]
    }
   ],
   "source": [
    "# Попробуем разные виды моделей для классификации текста\n",
    "for clf in [LogisticRegression, LinearSVC, SGDClassifier]:\n",
    "    print(clf)\n",
    "    print(cross_val_score(text_classifier(CountVectorizer(), TfidfTransformer(), clf(max_iter=1000)), texts, labels, \n",
    "                         scoring='roc_auc').mean())\n",
    "    print(\"\\n\")"
   ]
  },
  {
   "cell_type": "code",
   "execution_count": null,
   "metadata": {},
   "outputs": [],
   "source": [
    "# Вывод: Лучший результат показала модель LogisticRegression"
   ]
  },
  {
   "cell_type": "code",
   "execution_count": 15,
   "metadata": {},
   "outputs": [
    {
     "name": "stderr",
     "output_type": "stream",
     "text": [
      "C:\\Users\\Pavel\\Anaconda3\\lib\\site-packages\\sklearn\\linear_model\\logistic.py:432: FutureWarning: Default solver will be changed to 'lbfgs' in 0.22. Specify a solver to silence this warning.\n",
      "  FutureWarning)\n",
      "C:\\Users\\Pavel\\Anaconda3\\lib\\site-packages\\sklearn\\linear_model\\logistic.py:432: FutureWarning: Default solver will be changed to 'lbfgs' in 0.22. Specify a solver to silence this warning.\n",
      "  FutureWarning)\n",
      "C:\\Users\\Pavel\\Anaconda3\\lib\\site-packages\\sklearn\\linear_model\\logistic.py:432: FutureWarning: Default solver will be changed to 'lbfgs' in 0.22. Specify a solver to silence this warning.\n",
      "  FutureWarning)\n",
      "C:\\Users\\Pavel\\Anaconda3\\lib\\site-packages\\sklearn\\linear_model\\logistic.py:432: FutureWarning: Default solver will be changed to 'lbfgs' in 0.22. Specify a solver to silence this warning.\n",
      "  FutureWarning)\n",
      "C:\\Users\\Pavel\\Anaconda3\\lib\\site-packages\\sklearn\\linear_model\\logistic.py:432: FutureWarning: Default solver will be changed to 'lbfgs' in 0.22. Specify a solver to silence this warning.\n",
      "  FutureWarning)\n",
      "C:\\Users\\Pavel\\Anaconda3\\lib\\site-packages\\sklearn\\linear_model\\logistic.py:432: FutureWarning: Default solver will be changed to 'lbfgs' in 0.22. Specify a solver to silence this warning.\n",
      "  FutureWarning)\n",
      "C:\\Users\\Pavel\\Anaconda3\\lib\\site-packages\\sklearn\\linear_model\\logistic.py:432: FutureWarning: Default solver will be changed to 'lbfgs' in 0.22. Specify a solver to silence this warning.\n",
      "  FutureWarning)\n",
      "C:\\Users\\Pavel\\Anaconda3\\lib\\site-packages\\sklearn\\linear_model\\logistic.py:432: FutureWarning: Default solver will be changed to 'lbfgs' in 0.22. Specify a solver to silence this warning.\n",
      "  FutureWarning)\n",
      "C:\\Users\\Pavel\\Anaconda3\\lib\\site-packages\\sklearn\\linear_model\\logistic.py:432: FutureWarning: Default solver will be changed to 'lbfgs' in 0.22. Specify a solver to silence this warning.\n",
      "  FutureWarning)\n",
      "C:\\Users\\Pavel\\Anaconda3\\lib\\site-packages\\sklearn\\linear_model\\logistic.py:432: FutureWarning: Default solver will be changed to 'lbfgs' in 0.22. Specify a solver to silence this warning.\n",
      "  FutureWarning)\n",
      "C:\\Users\\Pavel\\Anaconda3\\lib\\site-packages\\sklearn\\linear_model\\logistic.py:432: FutureWarning: Default solver will be changed to 'lbfgs' in 0.22. Specify a solver to silence this warning.\n",
      "  FutureWarning)\n",
      "C:\\Users\\Pavel\\Anaconda3\\lib\\site-packages\\sklearn\\linear_model\\logistic.py:432: FutureWarning: Default solver will be changed to 'lbfgs' in 0.22. Specify a solver to silence this warning.\n",
      "  FutureWarning)\n",
      "C:\\Users\\Pavel\\Anaconda3\\lib\\site-packages\\sklearn\\linear_model\\logistic.py:432: FutureWarning: Default solver will be changed to 'lbfgs' in 0.22. Specify a solver to silence this warning.\n",
      "  FutureWarning)\n",
      "C:\\Users\\Pavel\\Anaconda3\\lib\\site-packages\\sklearn\\linear_model\\logistic.py:432: FutureWarning: Default solver will be changed to 'lbfgs' in 0.22. Specify a solver to silence this warning.\n",
      "  FutureWarning)\n",
      "C:\\Users\\Pavel\\Anaconda3\\lib\\site-packages\\sklearn\\linear_model\\logistic.py:432: FutureWarning: Default solver will be changed to 'lbfgs' in 0.22. Specify a solver to silence this warning.\n",
      "  FutureWarning)\n"
     ]
    },
    {
     "name": "stdout",
     "output_type": "stream",
     "text": [
      "(2, 2)   0.78\n"
     ]
    },
    {
     "name": "stderr",
     "output_type": "stream",
     "text": [
      "C:\\Users\\Pavel\\Anaconda3\\lib\\site-packages\\sklearn\\linear_model\\logistic.py:432: FutureWarning: Default solver will be changed to 'lbfgs' in 0.22. Specify a solver to silence this warning.\n",
      "  FutureWarning)\n",
      "C:\\Users\\Pavel\\Anaconda3\\lib\\site-packages\\sklearn\\linear_model\\logistic.py:432: FutureWarning: Default solver will be changed to 'lbfgs' in 0.22. Specify a solver to silence this warning.\n",
      "  FutureWarning)\n",
      "C:\\Users\\Pavel\\Anaconda3\\lib\\site-packages\\sklearn\\linear_model\\logistic.py:432: FutureWarning: Default solver will be changed to 'lbfgs' in 0.22. Specify a solver to silence this warning.\n",
      "  FutureWarning)\n",
      "C:\\Users\\Pavel\\Anaconda3\\lib\\site-packages\\sklearn\\linear_model\\logistic.py:432: FutureWarning: Default solver will be changed to 'lbfgs' in 0.22. Specify a solver to silence this warning.\n",
      "  FutureWarning)\n",
      "C:\\Users\\Pavel\\Anaconda3\\lib\\site-packages\\sklearn\\linear_model\\logistic.py:432: FutureWarning: Default solver will be changed to 'lbfgs' in 0.22. Specify a solver to silence this warning.\n",
      "  FutureWarning)\n",
      "C:\\Users\\Pavel\\Anaconda3\\lib\\site-packages\\sklearn\\linear_model\\logistic.py:432: FutureWarning: Default solver will be changed to 'lbfgs' in 0.22. Specify a solver to silence this warning.\n",
      "  FutureWarning)\n",
      "C:\\Users\\Pavel\\Anaconda3\\lib\\site-packages\\sklearn\\linear_model\\logistic.py:432: FutureWarning: Default solver will be changed to 'lbfgs' in 0.22. Specify a solver to silence this warning.\n",
      "  FutureWarning)\n",
      "C:\\Users\\Pavel\\Anaconda3\\lib\\site-packages\\sklearn\\linear_model\\logistic.py:432: FutureWarning: Default solver will be changed to 'lbfgs' in 0.22. Specify a solver to silence this warning.\n",
      "  FutureWarning)\n"
     ]
    },
    {
     "name": "stdout",
     "output_type": "stream",
     "text": [
      "(3, 3)   0.75\n"
     ]
    },
    {
     "name": "stderr",
     "output_type": "stream",
     "text": [
      "C:\\Users\\Pavel\\Anaconda3\\lib\\site-packages\\sklearn\\linear_model\\logistic.py:432: FutureWarning: Default solver will be changed to 'lbfgs' in 0.22. Specify a solver to silence this warning.\n",
      "  FutureWarning)\n",
      "C:\\Users\\Pavel\\Anaconda3\\lib\\site-packages\\sklearn\\linear_model\\logistic.py:432: FutureWarning: Default solver will be changed to 'lbfgs' in 0.22. Specify a solver to silence this warning.\n",
      "  FutureWarning)\n",
      "C:\\Users\\Pavel\\Anaconda3\\lib\\site-packages\\sklearn\\linear_model\\logistic.py:432: FutureWarning: Default solver will be changed to 'lbfgs' in 0.22. Specify a solver to silence this warning.\n",
      "  FutureWarning)\n",
      "C:\\Users\\Pavel\\Anaconda3\\lib\\site-packages\\sklearn\\linear_model\\logistic.py:432: FutureWarning: Default solver will be changed to 'lbfgs' in 0.22. Specify a solver to silence this warning.\n",
      "  FutureWarning)\n",
      "C:\\Users\\Pavel\\Anaconda3\\lib\\site-packages\\sklearn\\linear_model\\logistic.py:432: FutureWarning: Default solver will be changed to 'lbfgs' in 0.22. Specify a solver to silence this warning.\n",
      "  FutureWarning)\n",
      "C:\\Users\\Pavel\\Anaconda3\\lib\\site-packages\\sklearn\\linear_model\\logistic.py:432: FutureWarning: Default solver will be changed to 'lbfgs' in 0.22. Specify a solver to silence this warning.\n",
      "  FutureWarning)\n",
      "C:\\Users\\Pavel\\Anaconda3\\lib\\site-packages\\sklearn\\linear_model\\logistic.py:432: FutureWarning: Default solver will be changed to 'lbfgs' in 0.22. Specify a solver to silence this warning.\n",
      "  FutureWarning)\n",
      "C:\\Users\\Pavel\\Anaconda3\\lib\\site-packages\\sklearn\\linear_model\\logistic.py:432: FutureWarning: Default solver will be changed to 'lbfgs' in 0.22. Specify a solver to silence this warning.\n",
      "  FutureWarning)\n",
      "C:\\Users\\Pavel\\Anaconda3\\lib\\site-packages\\sklearn\\linear_model\\logistic.py:432: FutureWarning: Default solver will be changed to 'lbfgs' in 0.22. Specify a solver to silence this warning.\n",
      "  FutureWarning)\n",
      "C:\\Users\\Pavel\\Anaconda3\\lib\\site-packages\\sklearn\\linear_model\\logistic.py:432: FutureWarning: Default solver will be changed to 'lbfgs' in 0.22. Specify a solver to silence this warning.\n",
      "  FutureWarning)\n"
     ]
    },
    {
     "name": "stdout",
     "output_type": "stream",
     "text": [
      "(1, 3)   0.8\n"
     ]
    }
   ],
   "source": [
    "# Попробуем варианты с n-граммами для улучшения работы модели\n",
    "params = [(2,2), (3,3), (1,3)]\n",
    "params[0]\n",
    "\n",
    "for param in params:\n",
    "    model = Pipeline(steps=[\n",
    "            (\"vectorizer\", CountVectorizer(ngram_range=param)),\n",
    "            (\"classifier\", LogisticRegression(max_iter=1000, random_state=2))\n",
    "            ])\n",
    "    model.fit(texts, labels)\n",
    "    print(param, ' ', round(cross_val_score(model, texts, labels, cv=10, scoring='f1').mean(), 2))"
   ]
  },
  {
   "cell_type": "code",
   "execution_count": null,
   "metadata": {},
   "outputs": [],
   "source": [
    "# Вывод: лучший результат показала модель с парамерами n-грамм (1, 3)"
   ]
  },
  {
   "cell_type": "code",
   "execution_count": 16,
   "metadata": {},
   "outputs": [],
   "source": [
    "# Сохраним модель для последующего использования в web сервисе\n",
    "import pickle\n",
    "\n",
    "with open('model_ipoteka.pkl', 'wb') as f:\n",
    "    pickle.dump(model, f)  "
   ]
  },
  {
   "cell_type": "code",
   "execution_count": 17,
   "metadata": {},
   "outputs": [],
   "source": [
    "# Удалим временные объекты\n",
    "del df_f, df_e, df"
   ]
  },
  {
   "cell_type": "code",
   "execution_count": 34,
   "metadata": {},
   "outputs": [
    {
     "name": "stdout",
     "output_type": "stream",
     "text": [
      "[1]\n",
      "0.9874522503352516\n"
     ]
    }
   ],
   "source": [
    "# Проверка работы модели\n",
    "text = \"\"\"\n",
    "Я очень рад, что меня с орентировали на ваш банк! Решение об одобрении не заставило меня долго ждать, \n",
    "был приятно удивлен процентной ставкой! Большое спасибо работнику банка, а именно Наталье и Елене Задорожной! \n",
    "Терпеливо отнеслись к продавцу квартиры! Сделка прошла просто на одном дыхании, а так же дружелюбный и заботливый \n",
    "коллектив банка сделал отмасферу домашнего уюта и спокойствия! Хочу заметить- здесь аккредетив бесплатно и договор \n",
    "купли продажи тоже готовят бесплатно. Страхование вообще не ожидал, то что передлагают др. банки....(коллективное страхование) \n",
    "здесь гораздо дешевле. Спасибо большое, буду рекомендовать!\n",
    "\"\"\"\n",
    "print(model.predict([text]))\n",
    "print(model.predict_proba([text])[0][1])"
   ]
  },
  {
   "cell_type": "code",
   "execution_count": 35,
   "metadata": {},
   "outputs": [
    {
     "name": "stdout",
     "output_type": "stream",
     "text": [
      "[0]\n",
      "0.049719984319014095\n"
     ]
    }
   ],
   "source": [
    "text = \"\"\"\n",
    "Обратившись в этот банк, вы гарантировано получаете полное безразличие и совершенно неприемлемое отношение к себе. \n",
    "27.06 были согласованы документы и пришло одобрение на ипотеку более чем 9 млн руб. \n",
    "Стоимость недвижимости мы выбрали 7800. Личные средства в размере 10%. Все условия были согласованы. \n",
    "Менеджер З-ва Кристина на этапе согласования никогда не звонила, не информировала и даже игноривала, \n",
    "если возьмет с 5 раза трубку, когда вы звоните, то считай повезло. На этом мытарства не заканчиваются. \n",
    "Сроки рассмотрения документов как по нам, так и по объекту нарушены были 3 раза. \n",
    "Оставленные заявки с жалобами по телефону абсолютно никак не ускорили дело, видимо начальству тоже глубоко наплевать на вас \n",
    "как на клиентов. Но все-так после очередного обращения уже непосредственно переводят в банк на руководителя ипотечного \n",
    "кредитования С-ка Павла по адресу Москва Новоясеневский пр д 9. О чудо, думаем мы, наконец-то спустя 2 месяца хоть кто-то \n",
    "займется нами! На подписание дкп были приглашены 5.08 и так как сделка была альтернативной, помимо продавцов была \n",
    "еще куча людей, которых \"обнадежил\" банк ВТБ. Каково же было удивление, когда нам принесли довогор в котором была \n",
    "прописана сумма в 6 млн 240 тыс кредитных средств. Т.е банк нам одобрил не 90%, а 80. И ВОВРЕМЯ конечно никто из менеджеров, \n",
    "которым звонили постоянно, к которым приходили и согласовывали, не предупредил. Вот так прекрасно относятся к своим клиентам \n",
    "в банке ВТБ. К слову ни управляющая, которая пафосно заявила, что у менеджеров много клиентов, типа одним больше- одним меньше,\n",
    "ни один из выше перечисленных менеджеров даже не извинились. В этот же день была написана жалоба на этих лиц с просьбой \n",
    "привлечь к ответственности за дезинформацию, ждем результата и если такового не дождемся, логичнее всего будет подать иск в суд\n",
    "\"\"\"\n",
    "print(model.predict([text]))\n",
    "print(model.predict_proba([text])[0][1])"
   ]
  },
  {
   "cell_type": "code",
   "execution_count": null,
   "metadata": {},
   "outputs": [],
   "source": []
  }
 ],
 "metadata": {
  "kernelspec": {
   "display_name": "Python 3",
   "language": "python",
   "name": "python3"
  },
  "language_info": {
   "codemirror_mode": {
    "name": "ipython",
    "version": 3
   },
   "file_extension": ".py",
   "mimetype": "text/x-python",
   "name": "python",
   "nbconvert_exporter": "python",
   "pygments_lexer": "ipython3",
   "version": "3.7.4"
  }
 },
 "nbformat": 4,
 "nbformat_minor": 2
}
